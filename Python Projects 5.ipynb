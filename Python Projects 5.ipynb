{
 "cells": [
  {
   "cell_type": "markdown",
   "metadata": {},
   "source": [
    "##  Finding Prime Number "
   ]
  },
  {
   "cell_type": "markdown",
   "metadata": {},
   "source": [
    "A prime number is a positive integer greater than one, that has no positive integer factors except one and itself."
   ]
  },
  {
   "cell_type": "code",
   "execution_count": 3,
   "metadata": {},
   "outputs": [
    {
     "name": "stdout",
     "output_type": "stream",
     "text": [
      "Enter a number:45\n",
      "45 is not  a prime number\n",
      "Enter a number:1\n",
      "1 is not  a prime number\n",
      "Enter a number:2\n",
      "2 is a prime number\n",
      "Enter a number:3\n",
      "3 is a prime number\n",
      "Enter a number:11\n",
      "11 is a prime number\n",
      "Enter a number:12\n",
      "12 is not  a prime number\n",
      "Enter a number:26\n",
      "26 is not  a prime number\n",
      "Enter a number:31\n",
      "31 is a prime number\n",
      "Enter a number:q\n",
      "You exist the program...\n"
     ]
    }
   ],
   "source": [
    "def is_it_prime_number(number):\n",
    "    if number==1:\n",
    "        return False\n",
    "    elif number==2:\n",
    "        return True\n",
    "    else:\n",
    "        for i in range(2,number):\n",
    "            if number % i==0:\n",
    "                return False\n",
    "        return True\n",
    "\n",
    "while True:\n",
    "    number=input(\"Enter a number:\")\n",
    "    if number==\"q\":\n",
    "        print(\"You exist the program...\")\n",
    "        break\n",
    "    \n",
    "    else:\n",
    "        number=int(number)\n",
    "        if is_it_prime_number(number):\n",
    "            print(\"{} is a prime number\".format(number))\n",
    "        else:\n",
    "            print(\"{} is not  a prime number\".format(number))\n",
    "            \n",
    "            \n",
    "        \n",
    "    \n",
    "            "
   ]
  },
  {
   "cell_type": "markdown",
   "metadata": {},
   "source": [
    "## List of Prime Number"
   ]
  },
  {
   "cell_type": "code",
   "execution_count": 49,
   "metadata": {},
   "outputs": [],
   "source": [
    "def list_of_prime_number(x,y):\n",
    "    list1=[]\n",
    "   \n",
    "    if x<y:\n",
    "        for i in range(x,y+1):\n",
    "            if i>1:\n",
    "                for a in  range(2,i):\n",
    "                    if i % a==0:\n",
    "                        break\n",
    "                    else:\n",
    "                        list1.append(i)\n",
    "\n",
    "    elif x>y:\n",
    "        for i in range(y,x+1):\n",
    "            if i>1:\n",
    "                for a in  range(2,i):\n",
    "                    if i % a==0:\n",
    "                        break\n",
    "                    else:\n",
    "                        list1.append(i)\n",
    "    list1=list(set(list1))\n",
    "   \n",
    "    return list1\n",
    "        \n",
    "        "
   ]
  },
  {
   "cell_type": "code",
   "execution_count": 50,
   "metadata": {},
   "outputs": [
    {
     "data": {
      "text/plain": [
       "[33, 35, 37, 39, 41, 43, 45, 17, 19, 21, 23, 25, 27, 29, 31]"
      ]
     },
     "execution_count": 50,
     "metadata": {},
     "output_type": "execute_result"
    }
   ],
   "source": [
    "list_of_prime_number(45,17)"
   ]
  },
  {
   "cell_type": "markdown",
   "metadata": {},
   "source": [
    "##  Finding the submultiples of a number"
   ]
  },
  {
   "cell_type": "markdown",
   "metadata": {},
   "source": [
    "Submultiples: a number which divides another without a remainder, or is an aliquot part of it"
   ]
  },
  {
   "cell_type": "code",
   "execution_count": 24,
   "metadata": {},
   "outputs": [
    {
     "name": "stdout",
     "output_type": "stream",
     "text": [
      "Enter a number:56\n",
      "The submultiples list of  56 is  [1, 2, 4, 7, 8, 14, 28, 56]\n",
      "Enter a number:67\n",
      "The submultiples list of  67 is  [1, 67]\n",
      "Enter a number:78\n",
      "The submultiples list of  78 is  [1, 2, 3, 6, 13, 26, 39, 78]\n",
      "Enter a number:345\n",
      "The submultiples list of  345 is  [1, 3, 5, 15, 23, 69, 115, 345]\n",
      "Enter a number:q\n",
      "You exist the program...\n"
     ]
    }
   ],
   "source": [
    "def submultiples(number):\n",
    "    submultiples=[]\n",
    "    submultiples.append(1)\n",
    "    submultiples.append(number)\n",
    "    \n",
    "    for i in range (2,number):\n",
    "        if number % i==0:\n",
    "            submultiples.append(i)\n",
    "            submultiples.sort()\n",
    "            \n",
    "        \n",
    "    return  submultiples\n",
    "\n",
    "while True:\n",
    "    number=input(\"Enter a number:\")\n",
    "    if number==\"q\":\n",
    "        print(\"You exist the program...\")\n",
    "        break\n",
    "    else:\n",
    "        number=int(number)\n",
    "        print(\"The submultiples list of  {} is  {}\".format(number,submultiples(number)))\n",
    "        "
   ]
  },
  {
   "cell_type": "markdown",
   "metadata": {},
   "source": [
    "## Find  perfect number with a function"
   ]
  },
  {
   "cell_type": "code",
   "execution_count": 49,
   "metadata": {},
   "outputs": [
    {
     "name": "stdout",
     "output_type": "stream",
     "text": [
      "6 is a perfect number\n",
      "28 is a perfect number\n",
      "496 is a perfect number\n"
     ]
    }
   ],
   "source": [
    "def check_perfect_number(x):\n",
    "    sum1=0\n",
    "    for i in range(1,x):\n",
    "        if x % i==0:\n",
    "            sum1+=i\n",
    "        \n",
    "    return sum1==x\n",
    "        \n",
    "for i in range(1,1000):\n",
    "    if check_perfect_number(i):\n",
    "        print(\"{} is a perfect number\".format(i))\n",
    "\n",
    "    "
   ]
  },
  {
   "cell_type": "markdown",
   "metadata": {},
   "source": [
    "## The function of  Greatest Common Divisor  of Two Numbers"
   ]
  },
  {
   "cell_type": "code",
   "execution_count": 14,
   "metadata": {},
   "outputs": [
    {
     "name": "stdout",
     "output_type": "stream",
     "text": [
      "Enter the first number: 72\n",
      "Enter the second number: 90\n",
      "The Greatest Common Divisor of 72 and 90  is 18\n"
     ]
    }
   ],
   "source": [
    "def greatest_common_divisor(x,y):\n",
    "    x_sub=[]\n",
    "    y_sub=[]\n",
    "    gcd=[]\n",
    "    for i in range(2,x+1):\n",
    "        if x % i==0:\n",
    "            x_sub.append(i)\n",
    "    for j in range(2,y+1):\n",
    "        if y % j==0:\n",
    "            y_sub.append(j)\n",
    "    for a in x_sub:\n",
    "        if a in y_sub:\n",
    "            gcd.append(a)\n",
    "    return max(gcd)\n",
    "        \n",
    "x=int(input(\"Enter the first number: \"))\n",
    "y=int(input(\"Enter the second number: \"))\n",
    "\n",
    "print(\"The Greatest Common Divisor of {} and {}  is {}\".format(x,y,greatest_common_divisor(x,y)))"
   ]
  },
  {
   "cell_type": "markdown",
   "metadata": {},
   "source": [
    "## Finding the least common multiply of Two numbers"
   ]
  },
  {
   "cell_type": "code",
   "execution_count": null,
   "metadata": {},
   "outputs": [],
   "source": []
  },
  {
   "cell_type": "code",
   "execution_count": null,
   "metadata": {},
   "outputs": [],
   "source": []
  },
  {
   "cell_type": "code",
   "execution_count": null,
   "metadata": {},
   "outputs": [],
   "source": []
  },
  {
   "cell_type": "markdown",
   "metadata": {},
   "source": [
    "## Finding the script of a number"
   ]
  },
  {
   "cell_type": "code",
   "execution_count": 48,
   "metadata": {},
   "outputs": [
    {
     "name": "stdout",
     "output_type": "stream",
     "text": [
      "Enter a number45\n",
      "fourtyfive\n",
      "Enter a number2\n",
      "two\n",
      "Enter a number0\n",
      "zero\n",
      "Enter a number7\n",
      "seven\n",
      "Enter a number9\n",
      "nine\n",
      "Enter a number10\n",
      "ten\n",
      "Enter a number65\n",
      "sixtyfive\n",
      "Enter a number98\n",
      "ninetyeight\n",
      "Enter a number99\n",
      "ninetynine\n",
      "Enter a number34\n",
      "thirtyfour\n",
      "Enter a numberq\n",
      "You exist the program...\n"
     ]
    }
   ],
   "source": [
    "def tell_the_number(x):\n",
    "\n",
    "    list1=[\"zero\",\"one\",\"two\",\"three\",\"four\",\"five\",\"six\",\"seven\",\"eight\",\"nine\"]\n",
    "    list2=[\"\",\"\",\"twenty\",\"thirty\",\"fourty\",\"fifty\",\"sixty\",\"seventy\",\"eighty\",\"ninety\"]\n",
    "    list3=[\"ten\",\"eleven\",\"twelf\",\"thirteen\",\"fourteen\",\"fifteen\",\"sixteen\",\"seventeen\",\"eighteen\",\"nineteen\"]\n",
    "    if x>=10 and x<20:\n",
    "        a= x%10\n",
    "        return list3[a] \n",
    "    elif x<10:\n",
    "        return list1[x]\n",
    "    else:\n",
    "        unit_digits= x%10\n",
    "        tens_digits= x//10\n",
    "        if unit_digits==0:\n",
    "            return list2[tens_digits] \n",
    "        else:\n",
    "            return list2[tens_digits]+\"\"+list1[unit_digits]\n",
    "while True:        \n",
    "    x=input(\"Enter a number: \")\n",
    "    if x==\"q\":\n",
    "        print(\"You exist the program...\")\n",
    "        break\n",
    "    else:\n",
    "        x=int(x)\n",
    "        print(tell_the_number(x))"
   ]
  },
  {
   "cell_type": "markdown",
   "metadata": {},
   "source": [
    "## Finding the list of Pythagorean_triangle"
   ]
  },
  {
   "cell_type": "code",
   "execution_count": 70,
   "metadata": {},
   "outputs": [],
   "source": [
    "def Pythagorean_triangle(x,y):\n",
    "    list1=[]\n",
    "    for i in range(1,x+1):\n",
    "        for j in range(1,y+1):\n",
    "            c = (i ** 2 + j ** 2) ** 0.5\n",
    "            \n",
    "            if c==int(c):\n",
    "                list1.append((i,j,int(c)))\n",
    "    return list1      \n",
    "    \n"
   ]
  },
  {
   "cell_type": "code",
   "execution_count": 68,
   "metadata": {},
   "outputs": [
    {
     "data": {
      "text/plain": [
       "[(3, 4, 5),\n",
       " (4, 3, 5),\n",
       " (5, 12, 13),\n",
       " (6, 8, 10),\n",
       " (7, 24, 25),\n",
       " (8, 6, 10),\n",
       " (8, 15, 17),\n",
       " (9, 12, 15),\n",
       " (9, 40, 41),\n",
       " (10, 24, 26),\n",
       " (12, 5, 13),\n",
       " (12, 9, 15),\n",
       " (12, 16, 20),\n",
       " (12, 35, 37),\n",
       " (14, 48, 50),\n",
       " (15, 8, 17),\n",
       " (15, 20, 25),\n",
       " (15, 36, 39),\n",
       " (16, 12, 20),\n",
       " (16, 30, 34),\n",
       " (18, 24, 30),\n",
       " (20, 15, 25),\n",
       " (20, 21, 29),\n",
       " (20, 48, 52),\n",
       " (21, 20, 29),\n",
       " (21, 28, 35),\n",
       " (24, 7, 25),\n",
       " (24, 10, 26),\n",
       " (24, 18, 30),\n",
       " (24, 32, 40),\n",
       " (24, 45, 51),\n",
       " (27, 36, 45),\n",
       " (28, 21, 35),\n",
       " (28, 45, 53),\n",
       " (30, 16, 34),\n",
       " (30, 40, 50)]"
      ]
     },
     "execution_count": 68,
     "metadata": {},
     "output_type": "execute_result"
    }
   ],
   "source": [
    " Pythagorean_triangle(30,49)"
   ]
  },
  {
   "cell_type": "code",
   "execution_count": null,
   "metadata": {},
   "outputs": [],
   "source": []
  }
 ],
 "metadata": {
  "kernelspec": {
   "display_name": "Python 3",
   "language": "python",
   "name": "python3"
  },
  "language_info": {
   "codemirror_mode": {
    "name": "ipython",
    "version": 3
   },
   "file_extension": ".py",
   "mimetype": "text/x-python",
   "name": "python",
   "nbconvert_exporter": "python",
   "pygments_lexer": "ipython3",
   "version": "3.7.4"
  }
 },
 "nbformat": 4,
 "nbformat_minor": 4
}
