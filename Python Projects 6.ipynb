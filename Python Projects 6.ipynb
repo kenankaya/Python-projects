{
 "cells": [
  {
   "cell_type": "markdown",
   "metadata": {},
   "source": [
    "## The Game of the Number Guessing"
   ]
  },
  {
   "cell_type": "code",
   "execution_count": 10,
   "metadata": {},
   "outputs": [
    {
     "name": "stdout",
     "output_type": "stream",
     "text": [
      "Guess the number: 34\n",
      "Guess a lower number...\n",
      "Guess the number: 23\n",
      "Guess a lower number...\n",
      "Guess the number: 28\n",
      "Guess a lower number...\n",
      "Guess the number: 45\n",
      "Guess a lower number...\n",
      "Guess the number: 78\n",
      "Guess a lower number...\n",
      "Your guesswork is over!\n"
     ]
    }
   ],
   "source": [
    "import random\n",
    "random_number=random.randint(1,40)\n",
    "guesswork=5\n",
    "\n",
    "while True:\n",
    "    number=int(input(\"Guess the number: \"))\n",
    "    if number>random_number:\n",
    "        print(\"Guess a lower number...\")\n",
    "        guesswork-=1\n",
    "    elif number<random_number:\n",
    "        print(\"Guess a bigger number...\")\n",
    "        guesswork-=1\n",
    "    else:\n",
    "        print(\"Congrulation! Your guess is true, The number is {}\".format(random_number))\n",
    "        break\n",
    "    if guesswork==0:\n",
    "        print(\"Your guesswork is over!\")\n",
    "        break\n",
    "        \n",
    "    "
   ]
  },
  {
   "cell_type": "code",
   "execution_count": 6,
   "metadata": {},
   "outputs": [
    {
     "name": "stdout",
     "output_type": "stream",
     "text": [
      "345\n",
      "154\n",
      "348\n",
      "987\n"
     ]
    }
   ],
   "source": [
    "list1=[\"345\",\"big\",\"small\",\"like\",\"hate\",\"154\",\"348\",\"987\"]\n",
    "for i in list1:\n",
    "    try:\n",
    "        i=int(i)\n",
    "        print(i)\n",
    "    except:\n",
    "        pass\n",
    "\n",
    "    \n",
    "        "
   ]
  },
  {
   "cell_type": "code",
   "execution_count": 11,
   "metadata": {},
   "outputs": [
    {
     "name": "stdout",
     "output_type": "stream",
     "text": [
      "68\n",
      "98\n",
      "76\n",
      "12\n",
      "74\n"
     ]
    }
   ],
   "source": [
    "def even_number(x):\n",
    "    if x%2==0:\n",
    "        return x\n",
    "    else: \n",
    "        raise (ValueError)\n",
    "        \n",
    "list3=[23,45,68,98,76,12,33,21,27,63,91,74] \n",
    "for i in list3:\n",
    "    try:\n",
    "        print(even_number(i))\n",
    "    except ValueError:\n",
    "        pass"
   ]
  },
  {
   "cell_type": "code",
   "execution_count": null,
   "metadata": {},
   "outputs": [],
   "source": []
  }
 ],
 "metadata": {
  "kernelspec": {
   "display_name": "Python 3",
   "language": "python",
   "name": "python3"
  },
  "language_info": {
   "codemirror_mode": {
    "name": "ipython",
    "version": 3
   },
   "file_extension": ".py",
   "mimetype": "text/x-python",
   "name": "python",
   "nbconvert_exporter": "python",
   "pygments_lexer": "ipython3",
   "version": "3.7.4"
  }
 },
 "nbformat": 4,
 "nbformat_minor": 4
}
