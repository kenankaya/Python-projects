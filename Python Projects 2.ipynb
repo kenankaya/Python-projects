{
 "cells": [
  {
   "cell_type": "markdown",
   "metadata": {},
   "source": [
    "## Basic Calculator"
   ]
  },
  {
   "cell_type": "code",
   "execution_count": 4,
   "metadata": {},
   "outputs": [
    {
     "name": "stdout",
     "output_type": "stream",
     "text": [
      "Give the first number: 9\n",
      "Give the second number: 65\n",
      "Which mathematical operation do you want to do with these number?*\n",
      "9.0 multiply with 65.0 equals 585.0\n"
     ]
    }
   ],
   "source": [
    "\"\"\"\n",
    "**************************\n",
    "Basic Calculator\n",
    "\n",
    "Mathematical Operations\n",
    "\n",
    "\"+\" represents \"add\"\n",
    "\"-\" represents \"substract\"\n",
    "\"*\" represents \"multiply\"\n",
    "\"/\" represents \"divide\"\n",
    "\n",
    "**************************\n",
    "\n",
    "\"\"\"\n",
    "\n",
    "\n",
    "a=float(input(\"Give the first number: \"))\n",
    "b=float(input(\"Give the second number: \"))\n",
    "\n",
    "operation=input(\"Which mathematical operation do you want to do with these number?\")\n",
    "\n",
    "\n",
    "if operation == \"+\":\n",
    "    print(\"{} plus {} equals {}\".format(a,b,a+b))\n",
    "\n",
    "elif operation == \"-\":\n",
    "    print(\"{} minus {} equals {}\".format(a,b,a-b))\n",
    "\n",
    "elif operation == \"*\":\n",
    "    print(\"{} multiply with {} equals {}\".format(a,b,a*b))\n",
    "\n",
    "elif operation == \"/\":\n",
    "    print(\"{} divided by {} equals {}\".format(a,b,a/b))\n",
    "\n",
    "else:\n",
    "    print(\"You chose wrong mathematical operation.Please choose correct one among these symbols + ,- ,/ ,* \")\n",
    "\n",
    "\n"
   ]
  },
  {
   "cell_type": "markdown",
   "metadata": {},
   "source": [
    "## Basic program for \"Sign In \""
   ]
  },
  {
   "cell_type": "code",
   "execution_count": 12,
   "metadata": {},
   "outputs": [
    {
     "name": "stdout",
     "output_type": "stream",
     "text": [
      "Enter your email: KENANKAYAELENORK@GMAIL.COM\n",
      "Enter your password: 123456\n",
      "welcome KENANKAYA\n"
     ]
    }
   ],
   "source": [
    "member_mail=\"kenankayaelenork@gmail.com\"\n",
    "member_password=123456\n",
    "\n",
    "\n",
    "user_mail=input(\"Enter your email: \").lower()\n",
    "user_password=int(input(\"Enter your password: \"))\n",
    "\n",
    "if member_mail==user_mail and member_password != user_password:\n",
    "    print(\"You entered wrong password\")\n",
    "elif member_mail!=user_mail and member_password == user_password:\n",
    "    print(\"You entered wrong mail adress\")\n",
    "elif member_mail!=user_mail and member_password != user_password:\n",
    "    print(\"You entered wrong mail adress and password\")\n",
    "else:\n",
    "    print(\"welcome {}\".format(member_mail[0:9].upper()))\n",
    "\n"
   ]
  },
  {
   "cell_type": "markdown",
   "metadata": {},
   "source": [
    "##  The Scale of Obesity"
   ]
  },
  {
   "cell_type": "code",
   "execution_count": 17,
   "metadata": {},
   "outputs": [
    {
     "name": "stdout",
     "output_type": "stream",
     "text": [
      "Enter your weight (kg)90\n",
      "Enter your lenght (meter)1.65\n",
      "You are obez\n"
     ]
    }
   ],
   "source": [
    "w=int(input(\"Enter your weight (kg)\"))\n",
    "l=float(input(\"Enter your lenght (meter)\"))\n",
    "BMI=w/l**2\n",
    "if BMI < 18.5:\n",
    "    print(\"You are slim\")\n",
    "elif  BMI >=18.5 and BMI < 25:\n",
    "    print(\"You have a normal weight\")\n",
    "elif BMI >=25 and BMI < 30:\n",
    "    print(\"You are overweight\")\n",
    "else:\n",
    "    print(\"You are obez\")\n",
    "\n",
    "\n",
    "\n"
   ]
  },
  {
   "cell_type": "markdown",
   "metadata": {},
   "source": [
    "## Finding the biggest number"
   ]
  },
  {
   "cell_type": "code",
   "execution_count": 19,
   "metadata": {},
   "outputs": [
    {
     "name": "stdout",
     "output_type": "stream",
     "text": [
      "Give a number: 45\n",
      "Give a number: 89\n",
      "Give a number: 13\n",
      "The biggest number is  89.0\n"
     ]
    }
   ],
   "source": [
    "a=float(input(\"Give a number: \"))\n",
    "b=float(input(\"Give a number: \"))\n",
    "c=float(input(\"Give a number: \"))\n",
    "if a>=b and a>=c:\n",
    "    print(\"The biggest number is \",a)\n",
    "elif b>=a and b>=c:\n",
    "    print(\"The biggest number is \",b)\n",
    "elif c>=b and c>=a:\n",
    "    print(\"The biggest number is \",c)\n"
   ]
  },
  {
   "cell_type": "markdown",
   "metadata": {},
   "source": [
    "## Result Score of the Exam "
   ]
  },
  {
   "cell_type": "code",
   "execution_count": 2,
   "metadata": {},
   "outputs": [
    {
     "name": "stdout",
     "output_type": "stream",
     "text": [
      "Enter your first midterm score: 98\n",
      "Enter your second midterm score: 78\n",
      "Enter your final score: 56\n",
      "You get CB\n"
     ]
    }
   ],
   "source": [
    "mid1=int(input(\"Enter your first midterm score: \"))\n",
    "mid2=int(input(\"Enter your second midterm score: \"))\n",
    "final=int(input(\"Enter your final score: \"))\n",
    "total_score=(mid1*0.3)+ (mid2*0.3) + (final*0.4)\n",
    "\n",
    "if total_score >=90:\n",
    "    print(\"You get AA\")\n",
    "elif total_score >=85:\n",
    "    print(\"You get BA\")\n",
    "elif total_score >=80:\n",
    "    print(\"You get BB\")\n",
    "elif total_score >=75:\n",
    "    print(\"You get CB\")\n",
    "elif total_score >70:\n",
    "    print(\"You get CC\")\n",
    "elif total_score >=65:\n",
    "    print(\"You get DC\")\n",
    "elif total_score >=60:\n",
    "    print(\"You get DD\")\n",
    "elif total_score >=55:\n",
    "    print(\"You get FD\")\n",
    "elif total_score <55:\n",
    "    print(\"You get FF\")\n",
    "    "
   ]
  },
  {
   "cell_type": "markdown",
   "metadata": {},
   "source": [
    "## Finding the Geometric Shape"
   ]
  },
  {
   "cell_type": "code",
   "execution_count": 15,
   "metadata": {},
   "outputs": [
    {
     "name": "stdout",
     "output_type": "stream",
     "text": [
      "Which geometric shape do you want to find? Square or Triangle?triangle\n",
      "Give 3 side length of the triangle\n",
      "Enter first side lenght: 4\n",
      "Enter second side lenght: 3\n",
      "Enter third side lenght: 3\n",
      "Shape is an Isosceles Triangle\n"
     ]
    }
   ],
   "source": [
    "shape=input(\"Which geometric shape do you want to find? Square or Triangle?\")\n",
    "if shape ==\"square\":\n",
    "    print(\"Give 4 side length of the shape\")\n",
    "    a=float(input(\"Enter first side lenght: \"))\n",
    "    b=float(input(\"Enter second side lenght: \"))\n",
    "    c=float(input(\"Enter third side lenght: \"))\n",
    "    d=float(input(\"Enter fourth side lenght: \"))\n",
    "    if a==b==c==d:\n",
    "        print(\"Shape is a square\")\n",
    "    else:\n",
    "        print(\"Shape is a polygon\")\n",
    "elif shape == \"triangle\":\n",
    "    print(\"Give 3 side length of the triangle\")\n",
    "    x=float(input(\"Enter first side lenght: \"))\n",
    "    y=float(input(\"Enter second side lenght: \"))\n",
    "    z=float(input(\"Enter third side lenght: \"))\n",
    "    if (abs(x-y) < z< (x+y)) or (abs(x-z) < y <x+y) or (abs(y-z) < x < y+z):\n",
    "        if x==y==z:\n",
    "            print(\"Shape is an Equilateral Triangle\")\n",
    "        elif x==y or x==z or y==z:\n",
    "            print(\"Shape is an Isosceles Triangle\")\n",
    "    else:\n",
    "        print(\"There is no such triangle with these sides\")\n",
    "             \n",
    "    "
   ]
  }
 ],
 "metadata": {
  "kernelspec": {
   "display_name": "Python 3",
   "language": "python",
   "name": "python3"
  },
  "language_info": {
   "codemirror_mode": {
    "name": "ipython",
    "version": 3
   },
   "file_extension": ".py",
   "mimetype": "text/x-python",
   "name": "python",
   "nbconvert_exporter": "python",
   "pygments_lexer": "ipython3",
   "version": "3.7.4"
  }
 },
 "nbformat": 4,
 "nbformat_minor": 4
}
