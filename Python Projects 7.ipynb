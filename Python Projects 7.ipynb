{
 "cells": [
  {
   "cell_type": "markdown",
   "metadata": {},
   "source": [
    "## Make a exam-result list by using file operations"
   ]
  },
  {
   "cell_type": "code",
   "execution_count": 24,
   "metadata": {},
   "outputs": [],
   "source": [
    "def calculate_result(line):\n",
    "    line=line[:-1]\n",
    "    list1=line.split(\",\")\n",
    "    name=list1[0]\n",
    "    mid1=int(list1[1])\n",
    "    mid2=int(list1[2])\n",
    "    final=int(list1[3])\n",
    "    result= (mid1*0.3)+(mid2*0.3)+(final*0.4)\n",
    "    if result>=90:\n",
    "        mark=\"AA\"\n",
    "    elif result>=85:\n",
    "        mark=\"BA\"\n",
    "    elif result>=80:\n",
    "        mark=\"BB\"\n",
    "    elif result>=75:\n",
    "        mark=\"CB\"\n",
    "        \n",
    "    elif result>=70:\n",
    "        mark=\"CC\"\n",
    "    \n",
    "    elif result>=65:\n",
    "        mark=\"CD\"\n",
    "    \n",
    "    elif result>=60:\n",
    "        mark=\"DD\"\n",
    "        \n",
    "    elif result>=55:\n",
    "        mark=\"FD\"\n",
    "    else:\n",
    "        mark=\"FF\"\n",
    "    \n",
    "    return name +\"---------->\"+ mark + \"\\n\"\n",
    "\n",
    "\n",
    "    \n",
    "with open(\"student_exams_point.txt\",\"r\",encoding=\"utf-8\") as file:\n",
    "    mark_list=[]\n",
    "    for i in file:\n",
    "        mark_list.append(calculate_result(i))\n",
    "        \n",
    "    with open(\"Student_mark_list.txt\",\"w\",encoding=\"utf-8\") as file2:\n",
    "        for i in mark_list:\n",
    "            file2.write(i)\n",
    "\n",
    "\n",
    "    \n"
   ]
  },
  {
   "cell_type": "code",
   "execution_count": 37,
   "metadata": {},
   "outputs": [],
   "source": [
    "with open(\"Student_mark_list.txt\",\"r\",encoding=\"utf-8\") as file2:\n",
    "    list3=[]\n",
    "    list4=[]\n",
    "    for i in file2:\n",
    "        if \"FF\" in i or \"FD\" in i:\n",
    "            list3.append(i)\n",
    "        else:\n",
    "            list4.append(i)\n",
    "        \n",
    "        \n",
    "    with open(\"Student_failed_list.txt\",\"w\",encoding=\"utf-8\") as file3:\n",
    "        \n",
    "          for i in list3:\n",
    "                file3.write(i)\n",
    "            \n",
    "    with open(\"Student_passed_list.txt\",\"w\",encoding=\"utf-8\") as file4:   \n",
    "            for i in list4:\n",
    "                file4.write(i)\n",
    "        \n",
    "   \n",
    "    \n",
    "    \n",
    "    \n",
    "    \n",
    "    \n",
    "    \n",
    "    \n",
    "    \n",
    "    "
   ]
  },
  {
   "cell_type": "code",
   "execution_count": null,
   "metadata": {},
   "outputs": [],
   "source": []
  }
 ],
 "metadata": {
  "kernelspec": {
   "display_name": "Python 3",
   "language": "python",
   "name": "python3"
  },
  "language_info": {
   "codemirror_mode": {
    "name": "ipython",
    "version": 3
   },
   "file_extension": ".py",
   "mimetype": "text/x-python",
   "name": "python",
   "nbconvert_exporter": "python",
   "pygments_lexer": "ipython3",
   "version": "3.7.4"
  }
 },
 "nbformat": 4,
 "nbformat_minor": 4
}
