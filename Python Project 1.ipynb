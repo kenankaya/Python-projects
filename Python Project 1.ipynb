{
 "cells": [
  {
   "cell_type": "markdown",
   "metadata": {},
   "source": [
    "## Player Registration Program"
   ]
  },
  {
   "cell_type": "code",
   "execution_count": 1,
   "metadata": {},
   "outputs": [
    {
     "name": "stdout",
     "output_type": "stream",
     "text": [
      "Player Registration Program\n",
      "Player's name:Messi\n",
      "Player's surname:Brown\n",
      "Player's team:Barcelona\n",
      "Player's Information is being saved...\n",
      "Player's name: Messi\n",
      "Player's surname: Brown\n",
      "Player's team: Barcelona\n",
      "\n",
      "Saving process was completed..\n"
     ]
    }
   ],
   "source": [
    "print(\"Player Registration Program\")\n",
    "name=input(\"Player's name:\")\n",
    "surname=input(\"Player's surname:\")\n",
    "team=input(\"Player's team:\")\n",
    "player_info=[name,surname,team]\n",
    "print(\"Player's Information is being saved...\")\n",
    "print(\"Player's name: {}\\nPlayer's surname: {}\\nPlayer's team: {}\\n\".format(player_info[0],player_info[1],player_info[2]))\n",
    "print(\"Saving process was completed..\")\n"
   ]
  },
  {
   "cell_type": "markdown",
   "metadata": {},
   "source": [
    "## Solution of the Equation"
   ]
  },
  {
   "cell_type": "code",
   "execution_count": 3,
   "metadata": {},
   "outputs": [
    {
     "name": "stdout",
     "output_type": "stream",
     "text": [
      "a: 1\n",
      "b: 5\n",
      "c: 6\n",
      "First solution of the equation: -3.0\n",
      "Second solution of the equation:-2.0\n",
      "\n"
     ]
    }
   ],
   "source": [
    "# ax^2+ bx+c=0 find the solutions of the equation\n",
    "\n",
    "a=int(input(\"a: \"))\n",
    "b=int(input(\"b: \"))\n",
    "c=int(input(\"c: \"))\n",
    "delta=b**2-4*a*c\n",
    "x1=(-b-delta**0.5)/(2*a)\n",
    "x2=(-b+delta**0.5)/(2*a)\n",
    "print(\"First solution of the equation: {}\\nSecond solution of the equation:{}\\n\".format(x1,x2))\n"
   ]
  },
  {
   "cell_type": "markdown",
   "metadata": {},
   "source": [
    "## Multiplying of the Numbers"
   ]
  },
  {
   "cell_type": "code",
   "execution_count": 5,
   "metadata": {},
   "outputs": [
    {
     "name": "stdout",
     "output_type": "stream",
     "text": [
      "x:3\n",
      "y:4\n",
      "z:5\n",
      "3 x 4 x 5= 60\n"
     ]
    }
   ],
   "source": [
    "x=int(input(\"x:\"))\n",
    "y=int(input(\"y:\"))\n",
    "z=int(input(\"z:\"))\n",
    "multiply=x*y*z\n",
    "print(\"{} x {} x {}= {}\".format(x,y,z,multiply))"
   ]
  },
  {
   "cell_type": "markdown",
   "metadata": {},
   "source": [
    "## Body Mass Index"
   ]
  },
  {
   "cell_type": "code",
   "execution_count": 7,
   "metadata": {},
   "outputs": [
    {
     "name": "stdout",
     "output_type": "stream",
     "text": [
      "lengt:1.70\n",
      "weight:98\n",
      "Body Mass Index: 33.91003460207613\n"
     ]
    }
   ],
   "source": [
    "l=float(input(\"lengt:\"))\n",
    "w=int(input(\"weight:\"))\n",
    "BMS=w/(l**2)\n",
    "print(\"Body Mass Index:\",BMS)"
   ]
  },
  {
   "cell_type": "markdown",
   "metadata": {},
   "source": [
    "## Lengt of  the hypotenuse"
   ]
  },
  {
   "cell_type": "code",
   "execution_count": 9,
   "metadata": {},
   "outputs": [
    {
     "name": "stdout",
     "output_type": "stream",
     "text": [
      "a:4.1\n",
      "b:5.6\n",
      "Length of the hypotenuse:  6.940461079784253\n"
     ]
    }
   ],
   "source": [
    "a=float(input(\"a:\"))\n",
    "b=float(input(\"b:\"))\n",
    "c=((a**2)+(b**2))**(1/2)\n",
    "print(\"Length of the hypotenuse: \",c)\n"
   ]
  },
  {
   "cell_type": "code",
   "execution_count": null,
   "metadata": {},
   "outputs": [],
   "source": []
  }
 ],
 "metadata": {
  "kernelspec": {
   "display_name": "Python 3",
   "language": "python",
   "name": "python3"
  },
  "language_info": {
   "codemirror_mode": {
    "name": "ipython",
    "version": 3
   },
   "file_extension": ".py",
   "mimetype": "text/x-python",
   "name": "python",
   "nbconvert_exporter": "python",
   "pygments_lexer": "ipython3",
   "version": "3.7.4"
  }
 },
 "nbformat": 4,
 "nbformat_minor": 4
}
